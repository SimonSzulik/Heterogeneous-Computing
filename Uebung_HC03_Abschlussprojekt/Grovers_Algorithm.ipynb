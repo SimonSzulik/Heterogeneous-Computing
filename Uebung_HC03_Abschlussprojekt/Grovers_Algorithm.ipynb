{
 "cells": [
  {
   "cell_type": "code",
   "execution_count": 1,
   "metadata": {},
   "outputs": [
    {
     "name": "stderr",
     "output_type": "stream",
     "text": [
      "/tmp/ipykernel_3111/2115427853.py:5: DeprecationWarning: BasicAer is deprecated since Qiskit 0.46 and will be removed in Qiskit 1.0. The BasicAer (qiskit.providers.basicaer) module has been superseded by  qiskit.providers.basic_provider, and all its classes have been renamed to follow a new naming convention. More information and migration guidelines can be found in the 0.46 API docs for BasicAer.\n",
      "  from qiskit import IBMQ, BasicAer, transpile, execute\n"
     ]
    }
   ],
   "source": [
    "import matplotlib.pyplot as plt\n",
    "import numpy as np\n",
    "import math \n",
    "\n",
    "from qiskit import IBMQ, BasicAer, transpile, execute\n",
    "from qiskit import QuantumCircuit, ClassicalRegister, QuantumRegister\n",
    "from qiskit.tools.visualization import plot_histogram"
   ]
  },
  {
   "cell_type": "code",
   "execution_count": 9,
   "metadata": {},
   "outputs": [
    {
     "data": {
      "text/html": [
       "<pre style=\"word-wrap: normal;white-space: pre;background: #fff0;line-height: 1.1;font-family: &quot;Courier New&quot;,Courier,monospace\">                                              \n",
       "q3_0: ────────────────────────────────────────\n",
       "                                              \n",
       "q3_1: ───────■──────────────■─────────■───────\n",
       "      ┌───┐  │              │         │  ┌───┐\n",
       "q3_2: ┤ X ├──┼────■─────────■─────────■──┤ X ├\n",
       "      └───┘  │    │         │         │  └───┘\n",
       "q3_3: ───────┼────┼────■────┼────■────┼───────\n",
       "             │    │    │  ┌─┴─┐  │  ┌─┴─┐     \n",
       "q3_4: ───────┼────┼────┼──┤ X ├──■──┤ X ├─────\n",
       "           ┌─┴─┐┌─┴─┐┌─┴─┐└───┘┌─┴─┐└───┘     \n",
       "q3_5: ─────┤ X ├┤ X ├┤ X ├─────┤ X ├──────────\n",
       "           └───┘└───┘└───┘     └───┘          </pre>"
      ],
      "text/plain": [
       "                                              \n",
       "q3_0: ────────────────────────────────────────\n",
       "                                              \n",
       "q3_1: ───────■──────────────■─────────■───────\n",
       "      ┌───┐  │              │         │  ┌───┐\n",
       "q3_2: ┤ X ├──┼────■─────────■─────────■──┤ X ├\n",
       "      └───┘  │    │         │         │  └───┘\n",
       "q3_3: ───────┼────┼────■────┼────■────┼───────\n",
       "             │    │    │  ┌─┴─┐  │  ┌─┴─┐     \n",
       "q3_4: ───────┼────┼────┼──┤ X ├──■──┤ X ├─────\n",
       "           ┌─┴─┐┌─┴─┐┌─┴─┐└───┘┌─┴─┐└───┘     \n",
       "q3_5: ─────┤ X ├┤ X ├┤ X ├─────┤ X ├──────────\n",
       "           └───┘└───┘└───┘     └───┘          "
      ]
     },
     "execution_count": 9,
     "metadata": {},
     "output_type": "execute_result"
    }
   ],
   "source": [
    "r = QuantumRegister(6)\n",
    "qc = QuantumCircuit(r)\n",
    "qc.x(r[2])\n",
    "qc.cx(r[1], r[5])\n",
    "qc.cx(r[2], r[5])\n",
    "qc.cx(r[3], r[5])\n",
    "qc.ccx(r[1], r[2], r[4])\n",
    "qc.ccx(r[3], r[4], r[5])\n",
    "qc.ccx(r[1], r[2], r[4])\n",
    "qc.x(r[2])\n",
    "qc.draw()"
   ]
  },
  {
   "cell_type": "code",
   "execution_count": 10,
   "metadata": {},
   "outputs": [],
   "source": [
    "def black_box_u_f(circuit, f_in, f_out, aux, n, exactly_1_3_sat_formula):\n",
    "    num_clauses = len(exactly_1_3_sat_formula)\n",
    "    for (k, clause) in enumerate(exactly_1_3_sat_formula):\n",
    "        for literal in clause:\n",
    "            if literal > 0:\n",
    "                circuit.cx(f_in[literal-1], aux[k])\n",
    "            else:\n",
    "                circuit.x(f_in[-literal-1])\n",
    "                circuit.cx(f_in[-literal-1], aux[k])\n",
    "        circuit.ccx(f_in[0], f_in[1], aux[num_clauses])\n",
    "        circuit.ccx(f_in[2], aux[num_clauses], aux[k])\n",
    "        circuit.ccx(f_in[0], f_in[1], aux[num_clauses])\n",
    "        for literal in clause:\n",
    "            if literal < 0:\n",
    "                circuit.x(f_in[-literal-1])\n",
    "    if (num_clauses == 1):\n",
    "        circuit.cx(aux[0], f_out[0])\n",
    "    elif (num_clauses == 2):\n",
    "        circuit.ccx(aux[0], aux[1], f_out[0])\n",
    "    elif (num_clauses == 3):\n",
    "        circuit.ccx(aux[0], aux[1], aux[num_clauses])\n",
    "        circuit.ccx(aux[2], aux[num_clauses], f_out[0])\n",
    "        circuit.ccx(aux[0], aux[1], aux[num_clauses])\n",
    "    else:\n",
    "        raise ValueError('We only allow at most 3 clauses')\n",
    "    for (k, clause) in enumerate(exactly_1_3_sat_formula):\n",
    "        for literal in clause:\n",
    "            if literal > 0:\n",
    "                circuit.cx(f_in[literal-1], aux[k])\n",
    "            else:\n",
    "                circuit.x(f_in[-literal-1])\n",
    "                circuit.cx(f_in[-literal-1], aux[k])\n",
    "        circuit.ccx(f_in[0], f_in[1], aux[num_clauses])\n",
    "        circuit.ccx(f_in[2], aux[num_clauses], aux[k])\n",
    "        circuit.ccx(f_in[0], f_in[1], aux[num_clauses])\n",
    "        for literal in clause:\n",
    "            if literal < 0:\n",
    "                circuit.x(f_in[-literal-1])\n"
   ]
  },
  {
   "cell_type": "code",
   "execution_count": 11,
   "metadata": {},
   "outputs": [],
   "source": [
    "def n_controlled_Z(circuit, controls, target):\n",
    "    if (len(controls) > 2):\n",
    "        raise ValueError('The controlled Z with more than 2 ' +\n",
    "                         'controls is not implemented')\n",
    "    elif (len(controls) == 1):\n",
    "        circuit.h(target)\n",
    "        circuit.cx(controls[0], target)\n",
    "        circuit.h(target)\n",
    "    elif (len(controls) == 2):\n",
    "        circuit.h(target)\n",
    "        circuit.ccx(controls[0], controls[1], target)\n",
    "        circuit.h(target)\n"
   ]
  },
  {
   "cell_type": "code",
   "execution_count": 12,
   "metadata": {},
   "outputs": [],
   "source": [
    "def inversion_about_average(circuit, f_in, n):\n",
    "    for j in range(n):\n",
    "        circuit.h(f_in[j])\n",
    "    for j in range(n):\n",
    "        circuit.x(f_in[j])\n",
    "    n_controlled_Z(circuit, [f_in[j] for j in range(n-1)], f_in[n-1])\n",
    "    for j in range(n):\n",
    "        circuit.x(f_in[j])\n",
    "    for j in range(n):\n",
    "        circuit.h(f_in[j])\n"
   ]
  },
  {
   "cell_type": "code",
   "execution_count": 16,
   "metadata": {},
   "outputs": [
    {
     "name": "stderr",
     "output_type": "stream",
     "text": [
      "/tmp/ipykernel_17575/299529773.py:58: DeprecationWarning: The function ``qiskit.execute_function.execute()`` is deprecated as of qiskit 0.46.0. It will be removed in the Qiskit 1.0 release. This function combines ``transpile`` and ``backend.run``, which is covered by ``Sampler`` :mod:`~qiskit.primitives`. Alternatively, you can also run :func:`.transpile` followed by ``backend.run()``.\n",
      "  job = execute([grover], backend=backend, shots=1000)\n"
     ]
    },
    {
     "data": {
      "image/png": "[encoded data removed]",
      "text/plain": [
       "<Figure size 700x500 with 1 Axes>"
      ]
     },
     "execution_count": 16,
     "metadata": {},
     "output_type": "execute_result"
    }
   ],
   "source": [
    "def input_state(circuit, f_in, f_out, n):\n",
    "    for j in range(n):\n",
    "        circuit.h(f_in[j])\n",
    "    circuit.x(f_out)\n",
    "    circuit.h(f_out)\n",
    "n = 3\n",
    "\n",
    "exactly_1_3_sat_formula = [[1, 2, -3], [-1, -2, -3], [-1, 2, 3]]\n",
    "\n",
    "f_in = QuantumRegister(n)\n",
    "f_out = QuantumRegister(1)\n",
    "aux = QuantumRegister(len(exactly_1_3_sat_formula) + 1)\n",
    "\n",
    "ans = ClassicalRegister(n)\n",
    "\n",
    "grover = QuantumCircuit()\n",
    "grover.add_register(f_in)\n",
    "grover.add_register(f_out)\n",
    "grover.add_register(aux)\n",
    "grover.add_register(ans)\n",
    "\n",
    "input_state(grover, f_in, f_out, n)\n",
    "T = 2\n",
    "for t in range(T):\n",
    "    black_box_u_f(grover, f_in, f_out, aux, n, exactly_1_3_sat_formula)\n",
    "    inversion_about_average(grover, f_in, n)\n",
    "\n",
    "for j in range(n):\n",
    "    grover.measure(f_in[j], ans[j])\n",
    "\n",
    "backend = BasicAer.get_backend('qasm_simulator')\n",
    "job = execute([grover], backend=backend, shots=1000)\n",
    "result = job.result()\n",
    "\n",
    "counts = result.get_counts(grover)\n",
    "plot_histogram(counts)"
   ]
  }
 ],
 "metadata": {
  "kernelspec": {
   "display_name": "grover",
   "language": "python",
   "name": "python3"
  },
  "language_info": {
   "codemirror_mode": {
    "name": "ipython",
    "version": 3
   },
   "file_extension": ".py",
   "mimetype": "text/x-python",
   "name": "python",
   "nbconvert_exporter": "python",
   "pygments_lexer": "ipython3",
   "version": "3.12.4"
  }
 },
 "nbformat": 4,
 "nbformat_minor": 2
}
