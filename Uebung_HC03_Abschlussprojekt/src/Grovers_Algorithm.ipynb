{
 "cells": [
  {
   "cell_type": "code",
   "execution_count": 9,
   "metadata": {},
   "outputs": [
    {
     "name": "stderr",
     "output_type": "stream",
     "text": [
      "/tmp/ipykernel_8018/2415834068.py:6: DeprecationWarning: BasicAer is deprecated since Qiskit 0.46 and will be removed in Qiskit 1.0. The BasicAer (qiskit.providers.basicaer) module has been superseded by  qiskit.providers.basic_provider, and all its classes have been renamed to follow a new naming convention. More information and migration guidelines can be found in the 0.46 API docs for BasicAer.\n",
      "  from qiskit import IBMQ, BasicAer, transpile, execute\n"
     ]
    }
   ],
   "source": [
    "import matplotlib.pyplot as plt\n",
    "import numpy as np\n",
    "import math \n",
    "\n",
    "import qiskit\n",
    "from qiskit import IBMQ, BasicAer, transpile, execute\n",
    "from qiskit import QuantumCircuit, ClassicalRegister, QuantumRegister\n",
    "from qiskit.tools.visualization import plot_histogram"
   ]
  },
  {
   "cell_type": "markdown",
   "metadata": {},
   "source": [
    "# Anwendungsbeispiel mit 3-SAT\n",
    "\n",
    "Um später den Grover Algorithmus zu umschreiben, verwenden wir im folgenden eine besondere Form des 3-SAT Problems. Betrachten wir eine Boolesche Funktion $(f)$ mit den drei Booleschen Variablen $(x_1)$, $(x_2)$, $(x_3)$, wie unten dargestellt:\n",
    "\n",
    "$$\n",
    "f(x_1, x_2, x_3) = (x_1 \\lor x_2 \\lor \\neg x_3) \\land (\\neg x_1 \\lor \\neg x_2 \\lor \\neg x_3) \\land (\\neg x_1 \\lor x_2 \\lor x_3)\n",
    "$$\n",
    "\n",
    "Die Boolesche Funktion $(f)$ ist erfüllbar, wenn es eine Belegung von $(x_1)$, $(x_2)$, $(x_3)$ gibt, sodass $(f(x_1, x_2, x_3) = 1)$ (oder $(f)$ zu Wahr evaluiert). Unser Problem verlangt zusätzlich, dass wir eine Belegung finden, sodass $(f = 1)$ (oder Wahr) ist und es in jeder Klausel von $(f)$ genau ein Literal gibt, das zu Wahr evaluiert.\n",
    "\n",
    "Eine naive Methode, um eine solche Belegung zu finden, besteht darin, jede mögliche Kombination von Eingabewerten von $(f)$ auszuprobieren. Die untenstehende Tabelle zeigt alle möglichen Kombinationen von $(x_1)$, $(x_2)$, $(x_3)$.\n",
    "\n",
    "| $(x_1)$ | $(x_2)$ | $(x_3)$ | $(f)$ | Kommentar |\n",
    "|:---:|:---:|:---:|:---:|:---|\n",
    "| 0 | 0 | 0 | 1 | Keine Lösung, da es drei wahre Literale in der zweiten Klausel gibt |\n",
    "| 0 | 0 | 1 | 0 | Keine Lösung, da $(f)$ Falsch ist |\n",
    "| 0 | 1 | 0 | 1 | Keine Lösung, da es zwei wahre Literale in der ersten Klausel gibt |\n",
    "| 0 | 1 | 1 | 0 | Keine Lösung, da es drei wahre Literale in der dritten Klausel gibt |\n",
    "| 1 | 0 | 0 | 0 | Keine Lösung, da $(f)$ Falsch ist |\n",
    "| 1 | 0 | 1 | **1** | **Lösung** |\n",
    "| 1 | 1 | 0 | 1 | Keine Lösung, da es drei wahre Literale in der ersten Klausel gibt |\n",
    "| 1 | 1 | 1 | 0 | Keine Lösung, da $(f)$ Falsch ist |"
   ]
  },
  {
   "cell_type": "markdown",
   "metadata": {},
   "source": [
    "# Orakel und Phasenmarkierung\n",
    "\n",
    "Als nächstes müssen wir einen Schaltkreis konstruieren, der die SAT Konfiguration überprüft. Dieser Schaltkreis kann dann als Blackbox (oder Orakel) in der Grover-Suche verwendet werden. Um die Blackbox zu entwerfen, müssen wir die Lösung des Problems nicht im Voraus kennen: Es reicht aus, eine Blackbox zu entwerfen, die überprüft, ob die Zuweisung dazu führt, dass $(f)$ zu Wahr oder Falsch evaluiert.\n",
    "\n",
    "Für jede Klausel von $(f)$ entwerfen wir einen Sub-Schaltkreis, der genau dann Wahr ausgibt, wenn genau ein Literal in der Klausel Wahr ist. Indem wir alle Sub-Schaltkreise für alle Klauseln kombinieren, können wir dann die Blackbox erhalten, die genau dann Wahr ausgibt, wenn alle Klauseln mit genau einem wahren Literal erfüllt sind.\n",
    "\n",
    "Betrachten wir zum Beispiel die Klausel $(x_1 \\lor \\neg x_2 \\lor x_3)$. So ist $(y)$ wie folgt definiert:\n",
    "\n",
    "$$\n",
    "y = x_1 \\oplus \\neg x_2 \\oplus x_3 \\oplus (x_1 \\land \\neg x_2 \\land x_3)\n",
    "$$\n",
    "\n",
    "und nur dann Wahr, wenn genau eines von $( x_1 )$, $( \\neg x_2 )$ und $( x_3 )$ Wahr ist. Unter Verwendung von zwei Arbeits-Qubits kann $( y )$ durch den folgenden Sub-Schaltkreis berechnet werden. Im Folgenden wird $( x_1 x_2 x_3 )$ in $( q_1 q_2 q_3 )$ umbenannt, $( q_4 )$ wird als Arbeits-Qubit verwendet, und $( q_5 )$ wird verwendet, um den Wert von $( y )$ zu speichern."
   ]
  },
  {
   "cell_type": "code",
   "execution_count": 10,
   "metadata": {},
   "outputs": [
    {
     "data": {
      "text/html": [
       "<pre style=\"word-wrap: normal;white-space: pre;background: #fff0;line-height: 1.1;font-family: &quot;Courier New&quot;,Courier,monospace\">                                              \n",
       "q3_0: ────────────────────────────────────────\n",
       "                                              \n",
       "q3_1: ───────■──────────────■─────────■───────\n",
       "      ┌───┐  │              │         │  ┌───┐\n",
       "q3_2: ┤ X ├──┼────■─────────■─────────■──┤ X ├\n",
       "      └───┘  │    │         │         │  └───┘\n",
       "q3_3: ───────┼────┼────■────┼────■────┼───────\n",
       "             │    │    │  ┌─┴─┐  │  ┌─┴─┐     \n",
       "q3_4: ───────┼────┼────┼──┤ X ├──■──┤ X ├─────\n",
       "           ┌─┴─┐┌─┴─┐┌─┴─┐└───┘┌─┴─┐└───┘     \n",
       "q3_5: ─────┤ X ├┤ X ├┤ X ├─────┤ X ├──────────\n",
       "           └───┘└───┘└───┘     └───┘          </pre>"
      ],
      "text/plain": [
       "                                              \n",
       "q3_0: ────────────────────────────────────────\n",
       "                                              \n",
       "q3_1: ───────■──────────────■─────────■───────\n",
       "      ┌───┐  │              │         │  ┌───┐\n",
       "q3_2: ┤ X ├──┼────■─────────■─────────■──┤ X ├\n",
       "      └───┘  │    │         │         │  └───┘\n",
       "q3_3: ───────┼────┼────■────┼────■────┼───────\n",
       "             │    │    │  ┌─┴─┐  │  ┌─┴─┐     \n",
       "q3_4: ───────┼────┼────┼──┤ X ├──■──┤ X ├─────\n",
       "           ┌─┴─┐┌─┴─┐┌─┴─┐└───┘┌─┴─┐└───┘     \n",
       "q3_5: ─────┤ X ├┤ X ├┤ X ├─────┤ X ├──────────\n",
       "           └───┘└───┘└───┘     └───┘          "
      ]
     },
     "execution_count": 10,
     "metadata": {},
     "output_type": "execute_result"
    }
   ],
   "source": [
    "r = QuantumRegister(6)\n",
    "qc = QuantumCircuit(r)\n",
    "qc.x(r[2])\n",
    "qc.cx(r[1], r[5])\n",
    "qc.cx(r[2], r[5])\n",
    "qc.cx(r[3], r[5])\n",
    "qc.ccx(r[1], r[2], r[4])\n",
    "qc.ccx(r[3], r[4], r[5])\n",
    "qc.ccx(r[1], r[2], r[4])\n",
    "qc.x(r[2])\n",
    "qc.draw()"
   ]
  },
  {
   "cell_type": "markdown",
   "metadata": {},
   "source": [
    "Im obigen Sub-Schaltkreis werden die drei `ccx`-Gatter auf der rechten Seite verwendet, um $( q_1 \\land \\neg q_2 \\land q_3 )$ zu berechnen und das Ergebnis in $( q_5 )$ zu schreiben, während die drei `cx`-Gatter auf der linken Seite verwendet werden, um $( q_1 \\oplus \\neg q_2 \\oplus q_3 )$ zu berechnen und das Ergebnis in $( q_5 )$ zu schreiben. Beachte, dass das ganz rechte `ccx`-Gatter verwendet wird, um den Wert von $( q_4 )$ zurückzusetzen, damit es in den nachfolgenden Sub-Schaltkreisen wiederverwendet werden kann."
   ]
  },
  {
   "cell_type": "code",
   "execution_count": 11,
   "metadata": {},
   "outputs": [],
   "source": [
    "def black_box(circuit, f_in, f_out, aux, n, sat_formula):\n",
    "    # Anzahl der Klauseln in der 1-3-SAT-Formel bestimmen\n",
    "    num_clauses = len(sat_formula)\n",
    "    \n",
    "    for (k, clause) in enumerate(sat_formula):\n",
    "        for literal in clause:\n",
    "            if literal > 0:\n",
    "                circuit.cx(f_in[literal-1], aux[k])\n",
    "            else:\n",
    "                circuit.x(f_in[-literal-1])\n",
    "                circuit.cx(f_in[-literal-1], aux[k])\n",
    "        \n",
    "        # Anwenden von ccx Gattern zur Verknüpfung mehrerer Qubits\n",
    "        circuit.ccx(f_in[0], f_in[1], aux[num_clauses])\n",
    "        circuit.ccx(f_in[2], aux[num_clauses], aux[k])\n",
    "        circuit.ccx(f_in[0], f_in[1], aux[num_clauses])\n",
    "        \n",
    "        # Rückgängig machen des X-Gatters für negative Literale, um den ursprünglichen Zustand wiederherzustellen\n",
    "        for literal in clause:\n",
    "            if literal < 0:\n",
    "                circuit.x(f_in[-literal-1])\n",
    "\n",
    "    # Nach der Verarbeitung aller Klauseln entscheidet der folgende Block,\n",
    "    # wie das Ergebnis in das Ausgaberegister f_out[0] geschrieben wird\n",
    "    if (num_clauses == 1):\n",
    "        circuit.cx(aux[0], f_out[0])\n",
    "    elif (num_clauses == 2):\n",
    "        circuit.ccx(aux[0], aux[1], f_out[0])\n",
    "    elif (num_clauses == 3):\n",
    "        circuit.ccx(aux[0], aux[1], aux[num_clauses])\n",
    "        circuit.ccx(aux[2], aux[num_clauses], f_out[0])\n",
    "        circuit.ccx(aux[0], aux[1], aux[num_clauses])\n",
    "    else:\n",
    "        raise ValueError('Only 3 Clauses allowed')\n",
    "\n",
    "    # Zweite Schleife: Diese Schleife wiederholt den Vorgang aus der ersten Schleife,\n",
    "    # um den angewendeten Zustand auf den Qubits rückgängig zu machen\n",
    "    for (k, clause) in enumerate(sat_formula):\n",
    "        for literal in clause:\n",
    "            if literal > 0:\n",
    "                # Rückgängig machen der CNOT-Gatter für positive Literale\n",
    "                circuit.cx(f_in[literal-1], aux[k])\n",
    "            else:\n",
    "                # Rückgängig machen der X- und CNOT-Gatter für negative Literale\n",
    "                circuit.x(f_in[-literal-1])\n",
    "                circuit.cx(f_in[-literal-1], aux[k])\n",
    "        \n",
    "        circuit.ccx(f_in[0], f_in[1], aux[num_clauses])\n",
    "        circuit.ccx(f_in[2], aux[num_clauses], aux[k])\n",
    "        circuit.ccx(f_in[0], f_in[1], aux[num_clauses])\n",
    "\n",
    "        # Wiederherstellung des ursprünglichen Zustands der negativen Literale\n",
    "        for literal in clause:\n",
    "            if literal < 0:\n",
    "                circuit.x(f_in[-literal-1])\n"
   ]
  },
  {
   "cell_type": "markdown",
   "metadata": {},
   "source": [
    "## Inversion\n",
    "\n",
    "Der nächste Schritt der Grover Iteration ist die Durchführung der *Inversion-über-dem-Durchschnitt*. Diese Technik verändert alle Wahrscheinlichkeiten der möglichen Lösungen, sodass die Wahrscheinlichkeit für die richtige Lösung größer wird. Dabei wird folgende Transformation durchgeführt:\n",
    "\n",
    "$$\n",
    "\\sum_{j=0}^{2^n-1} \\alpha_j |j\\rangle \\rightarrow \\sum_{j=0}^{2^n-1} \\left( 2 \\left( \\frac{1}{2^n} \\sum_{k=0}^{2^n-1} \\alpha_k \\right) - \\alpha_j \\right) |j\\rangle\n",
    "$$\n",
    "\n",
    "Diese Transformation kann verwendet werden, um die Wahrscheinlichkeitsamplitude $( \\alpha_s )$ zu verstärken, wenn $( s )$ die Lösung ist und $( \\alpha_s )$ klein und negativ ist. Gleichzeitig sind $( \\alpha_j )$ für $( j \\neq s )$ positiv. Einfach gesagt, der Wert von $( \\alpha_s )$ wird um das Doppelte des Durchschnittswerts aller Amplituden erhöht, während die anderen Amplituden reduziert werden.\n",
    "\n",
    "Diese Rechnung kann mit der folgenden Sequenz unitärer Matrizen realisiert werden:\n",
    "\n",
    "$$\n",
    "H^{\\otimes n} \\left(2|0\\rangle \\langle 0 | - I\\right) H^{\\otimes n}\n",
    "$$\n",
    "\n",
    "Die Hadamard-Gatter $( H )$, die am Anfang und Ende der Sequenz stehen, werden auf jedes Qubit angewendet und verteilen die Zustände gleichmäßig. Die Operation in der Mitte sorgt dafür, dass die Amplitude des Zustands, der der binären Zeichenkette \"000...\" entspricht, umgekehrt wird.\n",
    "\n",
    "Dieser Sub-Schaltkreis kann durch eine sogenannte Multi-Qubit-Controlled-Z-Operation realisiert werden, die die Amplitude des Zustands umkehrt, der der binären Zeichenkette \"111...\" entspricht. Durch das Anwenden von X-Gattern auf alle Qubits vor und nach der Funktion realisieren wir den gewünschten Sub-Schaltkreis."
   ]
  },
  {
   "cell_type": "code",
   "execution_count": 12,
   "metadata": {},
   "outputs": [],
   "source": [
    "def n_controlled_Z(circuit, controls, target):\n",
    "    if (len(controls) > 2):\n",
    "        raise ValueError('The controlled Z with more than 2 ' +\n",
    "                         'controls is not implemented')\n",
    "    elif (len(controls) == 1):\n",
    "        circuit.h(target)\n",
    "        circuit.cx(controls[0], target)\n",
    "        circuit.h(target)\n",
    "    elif (len(controls) == 2):\n",
    "        circuit.h(target)\n",
    "        circuit.ccx(controls[0], controls[1], target)\n",
    "        circuit.h(target)\n"
   ]
  },
  {
   "cell_type": "code",
   "execution_count": 13,
   "metadata": {},
   "outputs": [],
   "source": [
    "def inversion_about_average(circuit, f_in, n):\n",
    "    for j in range(n):\n",
    "        circuit.h(f_in[j])\n",
    "    for j in range(n):\n",
    "        circuit.x(f_in[j])\n",
    "    n_controlled_Z(circuit, [f_in[j] for j in range(n-1)], f_in[n-1])\n",
    "    for j in range(n):\n",
    "        circuit.x(f_in[j])\n",
    "    for j in range(n):\n",
    "        circuit.h(f_in[j])\n"
   ]
  },
  {
   "cell_type": "markdown",
   "metadata": {},
   "source": [
    "Eine Beispielhafte Schaltung einer solchen Inversion mit 3 Qubits sieht wie folgt aus:"
   ]
  },
  {
   "cell_type": "code",
   "execution_count": 14,
   "metadata": {},
   "outputs": [
    {
     "data": {
      "image/png": "[encoded data removed]",
      "text/plain": [
       "<Figure size 723.984x284.278 with 1 Axes>"
      ]
     },
     "execution_count": 14,
     "metadata": {},
     "output_type": "execute_result"
    }
   ],
   "source": [
    "qr = QuantumRegister(3)\n",
    "qInvAvg = QuantumCircuit(qr)\n",
    "inversion_about_average(qInvAvg, qr, 3)\n",
    "qInvAvg.draw(output='mpl')"
   ]
  },
  {
   "cell_type": "markdown",
   "metadata": {},
   "source": [
    "## Grover-Algorithmus: einmal komplett\n",
    "\n",
    "Eine Vollständige Durchführung des Grover-Algorithmus sieht wie folgt aus\n",
    "\n",
    "1. Versetze die Qubits in eine Superposition aus allen möglichen Lösungen als Anfangszustand (die Arbeits-Qubits starten mit dem Wert Null):\n",
    "\n",
    "$$\n",
    "\\sum_{j=0}^{2^n-1} \\frac{1}{2^n} |j\\rangle |0\\rangle\n",
    "$$\n",
    "\n",
    "2. Wiederhole den folgenden Schritt $( T )$ mal (mit $T =\\sqrt{N}$ erhält man die höchste Wahrscheinlichkeit den gewollten Zustand zu messen):\n",
    "\n",
    "    - Wende die Blackbox-Funktion an (diese dient als Orakel und markiert die gesuchte Lösung)\n",
    "    - Führe die *Umkehrung und die Rotation* aus (dies verstärkt die Wahrscheinlichkeit für die richtige Lösung)\n",
    "\n",
    "3. Zustand messen"
   ]
  },
  {
   "cell_type": "code",
   "execution_count": 15,
   "metadata": {},
   "outputs": [
    {
     "name": "stderr",
     "output_type": "stream",
     "text": [
      "/tmp/ipykernel_8018/1922925492.py:37: DeprecationWarning: The function ``qiskit.execute_function.execute()`` is deprecated as of qiskit 0.46.0. It will be removed in the Qiskit 1.0 release. This function combines ``transpile`` and ``backend.run``, which is covered by ``Sampler`` :mod:`~qiskit.primitives`. Alternatively, you can also run :func:`.transpile` followed by ``backend.run()``.\n",
      "  job = execute([grover], backend=backend, shots=1000)\n"
     ]
    },
    {
     "data": {
      "image/png": "[encoded data removed]",
      "text/plain": [
       "<Figure size 700x500 with 1 Axes>"
      ]
     },
     "execution_count": 15,
     "metadata": {},
     "output_type": "execute_result"
    }
   ],
   "source": [
    "def input_state(circuit, f_in, f_out, n):\n",
    "    # Erzeuge eine Superposition der Eingangsqubits durch Hadamard-Gatter auf jedes f_in-Qubit\n",
    "    for j in range(n):\n",
    "        circuit.h(f_in[j])\n",
    "    circuit.x(f_out)\n",
    "    circuit.h(f_out)\n",
    "n = 3\n",
    "\n",
    "sat_formula = [[1, 2, -3], [-1, -2, -3], [-1, 2, 3]]\n",
    "\n",
    "# Quantenregister und Hilfsregister\n",
    "f_in = QuantumRegister(n)\n",
    "f_out = QuantumRegister(1)\n",
    "aux = QuantumRegister(len(sat_formula) + 1)\n",
    "\n",
    "ans = ClassicalRegister(n)\n",
    "\n",
    "# Grover Schaltkreis\n",
    "grover = QuantumCircuit()\n",
    "grover.add_register(f_in)\n",
    "grover.add_register(f_out)\n",
    "grover.add_register(aux)\n",
    "grover.add_register(ans)\n",
    "\n",
    "input_state(grover, f_in, f_out, n)\n",
    "T = 2\n",
    "for t in range(T):\n",
    "    black_box(grover, f_in, f_out, aux, n, sat_formula)\n",
    "    inversion_about_average(grover, f_in, n)\n",
    "\n",
    "# Zustant der Eingangs-Qubits\n",
    "for j in range(n):\n",
    "    grover.measure(f_in[j], ans[j])\n",
    "\n",
    "# Simualation der Schaltung\n",
    "backend = BasicAer.get_backend('qasm_simulator')\n",
    "job = execute([grover], backend=backend, shots=1000)\n",
    "result = job.result()\n",
    "\n",
    "counts = result.get_counts(grover)\n",
    "plot_histogram(counts)"
   ]
  }
 ],
 "metadata": {
  "kernelspec": {
   "display_name": "grover",
   "language": "python",
   "name": "python3"
  },
  "language_info": {
   "codemirror_mode": {
    "name": "ipython",
    "version": 3
   },
   "file_extension": ".py",
   "mimetype": "text/x-python",
   "name": "python",
   "nbconvert_exporter": "python",
   "pygments_lexer": "ipython3",
   "version": "3.12.4"
  }
 },
 "nbformat": 4,
 "nbformat_minor": 2
}
